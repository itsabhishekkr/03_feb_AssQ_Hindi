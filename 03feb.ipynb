{
 "cells": [
  {
   "cell_type": "code",
   "execution_count": 6,
   "id": "29eb8b23",
   "metadata": {},
   "outputs": [
    {
     "name": "stdout",
     "output_type": "stream",
     "text": [
      "25\n",
      "[1, 3, 5, 7, 9, 11, 13, 15, 17, 19, 21, 23]\n"
     ]
    }
   ],
   "source": [
    "#Q1. Which keyword is used to create a function? Create a function to return a list of odd numbers in the\n",
    "#range of 1 to 25.\n",
    "# def prime(n):\n",
    "#     l=[1]\n",
    "#     for i in range(2,n):\n",
    "#         pr=True\n",
    "#         for j in range(2,i):\n",
    "#             if(i%j==0):\n",
    "#                 pr=False\n",
    "#         if(pr):\n",
    "#             l.append(i)\n",
    "#     return(l)   \n",
    "# print(prime(int(input())))\n",
    "def odd(n):\n",
    "    l=[]\n",
    "    for i in range(n):\n",
    "        if(i%2!=0):\n",
    "            l.append(i)\n",
    "    return(l)\n",
    "print(odd(int(input())))"
   ]
  },
  {
   "cell_type": "code",
   "execution_count": 8,
   "id": "35643d37",
   "metadata": {},
   "outputs": [
    {
     "name": "stdout",
     "output_type": "stream",
     "text": [
      "args:  ('geeks', 'for', 'geeks')\n",
      "kwargs:  {'first': 'Geeks', 'mid': 'for', 'last': 'Geeks'}\n"
     ]
    }
   ],
   "source": [
    "#Q2)\n",
    "# *args all individual use as tuple\n",
    "# **kwargs all items are in key,value pair or \"=\"\n",
    "def myFun(*args, **kwargs):\n",
    "\tprint(\"args: \", args)\n",
    "\tprint(\"kwargs: \", kwargs)\n",
    "\n",
    "\n",
    "# Now we can use both *args ,**kwargs\n",
    "# to pass arguments to this function :\n",
    "myFun('geeks', 'for', 'geeks', first=\"Geeks\", mid=\"for\", last=\"Geeks\")\n"
   ]
  },
  {
   "cell_type": "code",
   "execution_count": 9,
   "id": "315d71fe",
   "metadata": {},
   "outputs": [
    {
     "name": "stdout",
     "output_type": "stream",
     "text": [
      "2\n",
      "4\n",
      "6\n",
      "8\n",
      "10\n"
     ]
    }
   ],
   "source": [
    "#Q3)\n",
    "l=[2,4,6,8,10,12,14,16,18,20]\n",
    "for i in range(5):\n",
    "    print(l[i])\n"
   ]
  },
  {
   "cell_type": "code",
   "execution_count": 18,
   "id": "82e9e107",
   "metadata": {},
   "outputs": [
    {
     "name": "stdout",
     "output_type": "stream",
     "text": [
      "[1, 2, 3, 5, 7, 11, 13, 17, 19]\n"
     ]
    }
   ],
   "source": [
    "#Q4 and Q5)\n",
    "def prime(n):\n",
    "    l=[1]\n",
    "    for i in range(2,n):\n",
    "        pr=True\n",
    "        for j in range(2,i):\n",
    "            if(i%j==0):\n",
    "                pr=False\n",
    "        if(pr):\n",
    "            l.append(i)\n",
    "    yield l\n",
    "print(next(prime(20)))"
   ]
  },
  {
   "cell_type": "code",
   "execution_count": 36,
   "id": "0c450569",
   "metadata": {},
   "outputs": [],
   "source": [
    "#Q6)\n",
    "def fob(n):\n",
    "   pass\n"
   ]
  },
  {
   "cell_type": "code",
   "execution_count": 24,
   "id": "38a7fa80",
   "metadata": {},
   "outputs": [
    {
     "name": "stdout",
     "output_type": "stream",
     "text": [
      "['p', 'w', 's', 'k', 'i', 'l', 'l']\n"
     ]
    }
   ],
   "source": [
    "#Q7)\n",
    "def break_list(s):\n",
    "    l=[]\n",
    "    for i in range(len(s)):\n",
    "        l.append(s[i])\n",
    "    print(l)\n",
    "break_list(\"pwskill\")"
   ]
  },
  {
   "cell_type": "code",
   "execution_count": 33,
   "id": "48325bc1",
   "metadata": {},
   "outputs": [
    {
     "name": "stdout",
     "output_type": "stream",
     "text": [
      "True\n"
     ]
    }
   ],
   "source": [
    "#Q8)\n",
    "def plindrom(num):\n",
    "    pl=False\n",
    "    s=str(num)\n",
    "    i=0\n",
    "    while(i<len(s)):\n",
    "        if(s[i]==s[len(s)-1-i]):\n",
    "            pl=True\n",
    "            i+=1\n",
    "    if(pl):\n",
    "        return(pl)\n",
    "    else:\n",
    "        return(\"false\")\n",
    "print(plindrom(12321))"
   ]
  },
  {
   "cell_type": "code",
   "execution_count": 34,
   "id": "074d1cf4",
   "metadata": {},
   "outputs": [
    {
     "name": "stdout",
     "output_type": "stream",
     "text": [
      "20\n",
      "[1, 3, 5, 7, 9, 11, 13, 15, 17, 19]\n"
     ]
    }
   ],
   "source": [
    "#Q9)\n",
    "def odd(n):\n",
    "    l=[]\n",
    "    for i in range(n):\n",
    "        if(i%2!=0):\n",
    "            l.append(i)\n",
    "    return(l)\n",
    "print(odd(int(input())))"
   ]
  },
  {
   "cell_type": "code",
   "execution_count": null,
   "id": "2d0b58f3",
   "metadata": {},
   "outputs": [],
   "source": []
  }
 ],
 "metadata": {
  "kernelspec": {
   "display_name": "Python 3 (ipykernel)",
   "language": "python",
   "name": "python3"
  },
  "language_info": {
   "codemirror_mode": {
    "name": "ipython",
    "version": 3
   },
   "file_extension": ".py",
   "mimetype": "text/x-python",
   "name": "python",
   "nbconvert_exporter": "python",
   "pygments_lexer": "ipython3",
   "version": "3.11.5"
  }
 },
 "nbformat": 4,
 "nbformat_minor": 5
}
